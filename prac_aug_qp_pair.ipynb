{
 "cells": [
  {
   "cell_type": "code",
   "execution_count": 92,
   "id": "407ae182-626a-4ae3-944e-656d18bb526c",
   "metadata": {},
   "outputs": [],
   "source": [
    "import json\n",
    "from collections import Counter\n",
    "import random\n",
    "import pandas as pd"
   ]
  },
  {
   "cell_type": "code",
   "execution_count": 93,
   "id": "05527e4d-5054-4b87-837e-bb16a25223ab",
   "metadata": {},
   "outputs": [],
   "source": [
    "\n",
    "with open('/opt/ml/input/data/wikipedia_documents.json', \"r\", encoding=\"utf-8\") as f:\n",
    "    wiki = json.load(f)\n",
    "contexts = list(dict.fromkeys([v[\"text\"] for v in wiki.values()]))\n",
    "titles = list(dict.fromkeys([v[\"title\"] for v in wiki.values()]))"
   ]
  },
  {
   "cell_type": "code",
   "execution_count": 94,
   "id": "9207577e-592c-4ed5-84e6-1b8c8db38664",
   "metadata": {},
   "outputs": [],
   "source": [
    "len(wiki.items())\n",
    "contexts=[None]*60613\n",
    "titles=[None]*60613\n",
    "for idx,(k,v) in enumerate(wiki.items()):\n",
    "    contexts[idx] = v['text']\n",
    "    titles[idx] = v['title']"
   ]
  },
  {
   "cell_type": "code",
   "execution_count": 95,
   "id": "bab584a7-72fe-4cc0-bd06-ad30c004b711",
   "metadata": {},
   "outputs": [],
   "source": [
    "length=[]\n",
    "useful_contexts=[]\n",
    "useful_titles=[]\n",
    "cnt=0\n",
    "for i in range(len(contexts)):\n",
    "    sentences=list(contexts[i].split('다.'))\n",
    "    if len(sentences) > 3:\n",
    "        useful_contexts.append(contexts[i])\n",
    "        useful_titles.append(titles[i])\n",
    "    #if len(sentences)==1:\n",
    "    #    print(sentences)\n",
    "    #    cnt+=1\n",
    "    #    if cnt==10:\n",
    "    #        break\n",
    "    length.append(len(sentences)-1)"
   ]
  },
  {
   "cell_type": "code",
   "execution_count": 41,
   "id": "46edbc38-de0e-406b-b963-42da7b734d12",
   "metadata": {},
   "outputs": [],
   "source": [
    "lng_cnt = Counter(length).most_common()"
   ]
  },
  {
   "cell_type": "code",
   "execution_count": null,
   "id": "5ed9680f-43e5-4bb3-a06e-5407a0ba68d7",
   "metadata": {},
   "outputs": [],
   "source": [
    "lng_cnt"
   ]
  },
  {
   "cell_type": "code",
   "execution_count": 96,
   "id": "0c98b82a-d8e7-4d55-992e-256f4850540b",
   "metadata": {},
   "outputs": [
    {
     "data": {
      "text/plain": [
       "56968"
      ]
     },
     "execution_count": 96,
     "metadata": {},
     "output_type": "execute_result"
    }
   ],
   "source": [
    "len(useful_contexts)"
   ]
  },
  {
   "cell_type": "code",
   "execution_count": 97,
   "id": "f59c8917-b160-4a9c-a26b-ebe12dbcdb33",
   "metadata": {},
   "outputs": [],
   "source": [
    "new_querys=[]\n",
    "new_passages=[]\n",
    "for i in range(len(useful_contexts)):\n",
    "    sentences=list(useful_contexts[i].split('다.'))\n",
    "    query_idx = random.randrange(0,len(sentences)-1)\n",
    "    new_query=sentences[query_idx]+'다.'\n",
    "    new_querys.append(new_query)\n",
    "    new_passage = useful_contexts[i].replace(new_query,'')\n",
    "    new_passages.append(new_passage)\n",
    "    \n",
    "                        "
   ]
  },
  {
   "cell_type": "code",
   "execution_count": 100,
   "id": "26554a86-930b-4de4-b105-e86c448070ed",
   "metadata": {},
   "outputs": [],
   "source": [
    "df = pd.DataFrame({'context' : new_passages, 'question':new_querys,'title':useful_titles})"
   ]
  },
  {
   "cell_type": "code",
   "execution_count": 103,
   "id": "baaece41-3693-4078-9276-e0c0d704ac56",
   "metadata": {},
   "outputs": [
    {
     "data": {
      "text/plain": [
       "30945"
      ]
     },
     "execution_count": 103,
     "metadata": {},
     "output_type": "execute_result"
    }
   ],
   "source": [
    "len(df['title'].unique())"
   ]
  },
  {
   "cell_type": "code",
   "execution_count": 104,
   "id": "2759c839-8288-4239-b5f4-23ccab460e39",
   "metadata": {},
   "outputs": [],
   "source": [
    "df.to_csv('qp_pair.csv')"
   ]
  },
  {
   "cell_type": "code",
   "execution_count": 107,
   "id": "44f0a0e8-91fa-44f3-9304-829ee5452e47",
   "metadata": {},
   "outputs": [],
   "source": [
    "df2 = pd.DataFrame({'context' : [1,2,3], 'question':[1,2,3],'title':[1,2,3]})"
   ]
  },
  {
   "cell_type": "code",
   "execution_count": 110,
   "id": "fcb55ab9-a472-4536-9be2-e13ea61af41e",
   "metadata": {},
   "outputs": [],
   "source": [
    "new_df = df.append(df2)"
   ]
  },
  {
   "cell_type": "code",
   "execution_count": 112,
   "id": "f7c8d0a6-581a-4134-8d46-ba72321d1798",
   "metadata": {},
   "outputs": [
    {
     "data": {
      "text/html": [
       "<div>\n",
       "<style scoped>\n",
       "    .dataframe tbody tr th:only-of-type {\n",
       "        vertical-align: middle;\n",
       "    }\n",
       "\n",
       "    .dataframe tbody tr th {\n",
       "        vertical-align: top;\n",
       "    }\n",
       "\n",
       "    .dataframe thead th {\n",
       "        text-align: right;\n",
       "    }\n",
       "</style>\n",
       "<table border=\"1\" class=\"dataframe\">\n",
       "  <thead>\n",
       "    <tr style=\"text-align: right;\">\n",
       "      <th></th>\n",
       "      <th>context</th>\n",
       "      <th>question</th>\n",
       "      <th>title</th>\n",
       "    </tr>\n",
       "  </thead>\n",
       "  <tbody>\n",
       "    <tr>\n",
       "      <th>0</th>\n",
       "      <td>\\n\\n이 목록은 명료화를 위해 두 부분으로 나뉘어 있다.\\n\\n# 첫 번째 부분은...</td>\n",
       "      <td>이 문서는 나라 목록이며, 전 세계 206개 나라의 각 현황과 주권 승인 정보를 개...</td>\n",
       "      <td>나라 목록</td>\n",
       "    </tr>\n",
       "    <tr>\n",
       "      <th>1</th>\n",
       "      <td>이 목록에 실린 국가 기준은 1933년 몬테비데오 협약 1장을 참고로 하였다. 협정...</td>\n",
       "      <td>\\n* (a) 영속적인 국민\\n* (b) 일정한 영토\\n* (c) 정부\\n* (d)...</td>\n",
       "      <td>나라 목록</td>\n",
       "    </tr>\n",
       "    <tr>\n",
       "      <th>2</th>\n",
       "      <td>현 서울특별시 종로구 서린동 (구 일제 강점기 경기도 경성부 서린정) 출신이다. 친...</td>\n",
       "      <td>1958년 그 곳에서 현대음악가 존 케이지를 만나 그의 음악에 대한 파괴적 접근과...</td>\n",
       "      <td>백남준</td>\n",
       "    </tr>\n",
       "    <tr>\n",
       "      <th>3</th>\n",
       "      <td>아오조라 문고(靑空文庫, あおぞらぶんこ|아오조라 분고)는 ‘일본어판 구텐베르크 프로...</td>\n",
       "      <td>또 아오조라 문고 수록파일 취급기준에 따라 자유롭게 이용할 수 있기 때문에, 수록...</td>\n",
       "      <td>아오조라 문고</td>\n",
       "    </tr>\n",
       "    <tr>\n",
       "      <th>4</th>\n",
       "      <td>외국 번역작품이나 저자가 무료보기를 인정한 현대작품도 포함된다. 장르는 정치부터 ...</td>\n",
       "      <td>저자 사망 이후 50년이 지나 저작권이 소멸한 메이지 시대부터 쇼와 시대 초기까지의...</td>\n",
       "      <td>아오조라 문고</td>\n",
       "    </tr>\n",
       "    <tr>\n",
       "      <th>...</th>\n",
       "      <td>...</td>\n",
       "      <td>...</td>\n",
       "      <td>...</td>\n",
       "    </tr>\n",
       "    <tr>\n",
       "      <th>56966</th>\n",
       "      <td>1949년 7월 1일 국제노동기구 이사회에서 채택되었고, 1951년 7월 18일 ...</td>\n",
       "      <td>단결권 및 단체교섭권 협약(Right to Organise and Collectiv...</td>\n",
       "      <td>단결권 및 단체교섭권 협약</td>\n",
       "    </tr>\n",
       "    <tr>\n",
       "      <th>56967</th>\n",
       "      <td>이 협약은 부당노동행위 제도를 규율하고 있다. 협약 제1조에서 반노동조합 차별행위로...</td>\n",
       "      <td>사용자 또는 사용자단체의 지배 하에 둘 목적으로 노동자단체의 설립을 지원하거나 노...</td>\n",
       "      <td>단결권 및 단체교섭권 협약</td>\n",
       "    </tr>\n",
       "    <tr>\n",
       "      <th>56968</th>\n",
       "      <td>1</td>\n",
       "      <td>1</td>\n",
       "      <td>1</td>\n",
       "    </tr>\n",
       "    <tr>\n",
       "      <th>56969</th>\n",
       "      <td>2</td>\n",
       "      <td>2</td>\n",
       "      <td>2</td>\n",
       "    </tr>\n",
       "    <tr>\n",
       "      <th>56970</th>\n",
       "      <td>3</td>\n",
       "      <td>3</td>\n",
       "      <td>3</td>\n",
       "    </tr>\n",
       "  </tbody>\n",
       "</table>\n",
       "<p>56971 rows × 3 columns</p>\n",
       "</div>"
      ],
      "text/plain": [
       "                                                 context  \\\n",
       "0      \\n\\n이 목록은 명료화를 위해 두 부분으로 나뉘어 있다.\\n\\n# 첫 번째 부분은...   \n",
       "1      이 목록에 실린 국가 기준은 1933년 몬테비데오 협약 1장을 참고로 하였다. 협정...   \n",
       "2      현 서울특별시 종로구 서린동 (구 일제 강점기 경기도 경성부 서린정) 출신이다. 친...   \n",
       "3      아오조라 문고(靑空文庫, あおぞらぶんこ|아오조라 분고)는 ‘일본어판 구텐베르크 프로...   \n",
       "4       외국 번역작품이나 저자가 무료보기를 인정한 현대작품도 포함된다. 장르는 정치부터 ...   \n",
       "...                                                  ...   \n",
       "56966   1949년 7월 1일 국제노동기구 이사회에서 채택되었고, 1951년 7월 18일 ...   \n",
       "56967  이 협약은 부당노동행위 제도를 규율하고 있다. 협약 제1조에서 반노동조합 차별행위로...   \n",
       "56968                                                  1   \n",
       "56969                                                  2   \n",
       "56970                                                  3   \n",
       "\n",
       "                                                question           title  \n",
       "0      이 문서는 나라 목록이며, 전 세계 206개 나라의 각 현황과 주권 승인 정보를 개...           나라 목록  \n",
       "1      \\n* (a) 영속적인 국민\\n* (b) 일정한 영토\\n* (c) 정부\\n* (d)...           나라 목록  \n",
       "2       1958년 그 곳에서 현대음악가 존 케이지를 만나 그의 음악에 대한 파괴적 접근과...             백남준  \n",
       "3       또 아오조라 문고 수록파일 취급기준에 따라 자유롭게 이용할 수 있기 때문에, 수록...         아오조라 문고  \n",
       "4      저자 사망 이후 50년이 지나 저작권이 소멸한 메이지 시대부터 쇼와 시대 초기까지의...         아오조라 문고  \n",
       "...                                                  ...             ...  \n",
       "56966  단결권 및 단체교섭권 협약(Right to Organise and Collectiv...  단결권 및 단체교섭권 협약  \n",
       "56967   사용자 또는 사용자단체의 지배 하에 둘 목적으로 노동자단체의 설립을 지원하거나 노...  단결권 및 단체교섭권 협약  \n",
       "56968                                                  1               1  \n",
       "56969                                                  2               2  \n",
       "56970                                                  3               3  \n",
       "\n",
       "[56971 rows x 3 columns]"
      ]
     },
     "execution_count": 112,
     "metadata": {},
     "output_type": "execute_result"
    }
   ],
   "source": [
    "new_df.reset_index(drop=True)"
   ]
  },
  {
   "cell_type": "code",
   "execution_count": null,
   "id": "158a879b-ddd8-4bae-9a47-f4cf4df2637f",
   "metadata": {},
   "outputs": [],
   "source": [
    "56968"
   ]
  }
 ],
 "metadata": {
  "kernelspec": {
   "display_name": "Python 3 (ipykernel)",
   "language": "python",
   "name": "python3"
  },
  "language_info": {
   "codemirror_mode": {
    "name": "ipython",
    "version": 3
   },
   "file_extension": ".py",
   "mimetype": "text/x-python",
   "name": "python",
   "nbconvert_exporter": "python",
   "pygments_lexer": "ipython3",
   "version": "3.8.5"
  }
 },
 "nbformat": 4,
 "nbformat_minor": 5
}
