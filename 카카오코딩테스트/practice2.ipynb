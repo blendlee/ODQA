{
 "cells": [
  {
   "cell_type": "code",
   "execution_count": 2,
   "metadata": {},
   "outputs": [],
   "source": [
    "from collections import deque"
   ]
  },
  {
   "cell_type": "code",
   "execution_count": 34,
   "metadata": {},
   "outputs": [],
   "source": [
    "queue1=deque([1, 1])\n",
    "queue2=deque([1, 5])\n",
    "org_queue1=deque([1, 1])\n",
    "org_queue2=deque([1, 5])"
   ]
  },
  {
   "cell_type": "code",
   "execution_count": 35,
   "metadata": {},
   "outputs": [],
   "source": [
    "total = sum(queue1)+sum(queue2)\n",
    "average= total//2\n",
    "answer=0\n",
    "if total%2==1:\n",
    "    answer=-1"
   ]
  },
  {
   "cell_type": "code",
   "execution_count": 36,
   "metadata": {},
   "outputs": [
    {
     "ename": "KeyboardInterrupt",
     "evalue": "",
     "output_type": "error",
     "traceback": [
      "\u001b[0;31m---------------------------------------------------------------------------\u001b[0m",
      "\u001b[0;31mKeyboardInterrupt\u001b[0m                         Traceback (most recent call last)",
      "\u001b[1;32m/opt/ml/input/code/카카오코딩테스트/practice2.ipynb Cell 4'\u001b[0m in \u001b[0;36m<cell line: 2>\u001b[0;34m()\u001b[0m\n\u001b[1;32m      <a href='vscode-notebook-cell://ssh-remote%2B27.96.131.213/opt/ml/input/code/%EC%B9%B4%EC%B9%B4%EC%98%A4%EC%BD%94%EB%94%A9%ED%85%8C%EC%8A%A4%ED%8A%B8/practice2.ipynb#ch0000001vscode-remote?line=0'>1</a>\u001b[0m \u001b[39mwhile\u001b[39;00m \u001b[39mTrue\u001b[39;00m:\n\u001b[0;32m----> <a href='vscode-notebook-cell://ssh-remote%2B27.96.131.213/opt/ml/input/code/%EC%B9%B4%EC%B9%B4%EC%98%A4%EC%BD%94%EB%94%A9%ED%85%8C%EC%8A%A4%ED%8A%B8/practice2.ipynb#ch0000001vscode-remote?line=1'>2</a>\u001b[0m     \u001b[39mif\u001b[39;00m \u001b[39msum\u001b[39m(queue2)\u001b[39m>\u001b[39m\u001b[39msum\u001b[39;49m(queue1):\n\u001b[1;32m      <a href='vscode-notebook-cell://ssh-remote%2B27.96.131.213/opt/ml/input/code/%EC%B9%B4%EC%B9%B4%EC%98%A4%EC%BD%94%EB%94%A9%ED%85%8C%EC%8A%A4%ED%8A%B8/practice2.ipynb#ch0000001vscode-remote?line=2'>3</a>\u001b[0m         answer\u001b[39m+\u001b[39m\u001b[39m=\u001b[39m\u001b[39m1\u001b[39m\n\u001b[1;32m      <a href='vscode-notebook-cell://ssh-remote%2B27.96.131.213/opt/ml/input/code/%EC%B9%B4%EC%B9%B4%EC%98%A4%EC%BD%94%EB%94%A9%ED%85%8C%EC%8A%A4%ED%8A%B8/practice2.ipynb#ch0000001vscode-remote?line=3'>4</a>\u001b[0m         queue1\u001b[39m.\u001b[39mappend(queue2\u001b[39m.\u001b[39mpopleft())\n",
      "\u001b[0;31mKeyboardInterrupt\u001b[0m: "
     ]
    }
   ],
   "source": [
    "while True:\n",
    "    if sum(queue2)>sum(queue1):\n",
    "        answer+=1\n",
    "        queue1.append(queue2.popleft())\n",
    "    elif sum(queue2)<sum(queue1):\n",
    "        answer+=1\n",
    "        queue2.append(queue1.popleft())\n",
    "    elif sum(queue2)==sum(queue1):\n",
    "        break\n",
    "    elif queue1==org_queue2 and org_queue1==queue2:\n",
    "        answer=-1\n",
    "        break\n"
   ]
  },
  {
   "cell_type": "code",
   "execution_count": 39,
   "metadata": {},
   "outputs": [
    {
     "data": {
      "text/plain": [
       "'1203'"
      ]
     },
     "execution_count": 39,
     "metadata": {},
     "output_type": "execute_result"
    }
   ],
   "source": [
    "''.join(str(i) for i in [1,20,3])"
   ]
  },
  {
   "cell_type": "code",
   "execution_count": 19,
   "metadata": {},
   "outputs": [
    {
     "data": {
      "text/plain": [
       "0"
      ]
     },
     "execution_count": 19,
     "metadata": {},
     "output_type": "execute_result"
    }
   ],
   "source": [
    "answer"
   ]
  },
  {
   "cell_type": "code",
   "execution_count": null,
   "metadata": {},
   "outputs": [],
   "source": []
  }
 ],
 "metadata": {
  "interpreter": {
   "hash": "d4d1e4263499bec80672ea0156c357c1ee493ec2b1c70f0acce89fc37c4a6abe"
  },
  "kernelspec": {
   "display_name": "Python 3.8.5 ('base')",
   "language": "python",
   "name": "python3"
  },
  "language_info": {
   "codemirror_mode": {
    "name": "ipython",
    "version": 3
   },
   "file_extension": ".py",
   "mimetype": "text/x-python",
   "name": "python",
   "nbconvert_exporter": "python",
   "pygments_lexer": "ipython3",
   "version": "3.8.5"
  },
  "orig_nbformat": 4
 },
 "nbformat": 4,
 "nbformat_minor": 2
}
