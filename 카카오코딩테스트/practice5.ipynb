{
 "cells": [
  {
   "cell_type": "code",
   "execution_count": 32,
   "metadata": {},
   "outputs": [],
   "source": [
    "from collections import deque"
   ]
  },
  {
   "cell_type": "code",
   "execution_count": 50,
   "metadata": {},
   "outputs": [],
   "source": [
    "rc=[[1, 2, 3], [4, 5, 6], [7, 8, 9]]\n",
    "operations=\t[\"Rotate\", \"ShiftRow\"]\n",
    "r=len(rc)\n",
    "c=len(rc[0])"
   ]
  },
  {
   "cell_type": "code",
   "execution_count": 51,
   "metadata": {},
   "outputs": [],
   "source": [
    "def Rotate(graph,r,c):\n",
    "    edges=graph[0]+[graph[i][-1] for i in range(c)]+list(reversed(graph[-1]))+list(reversed([graph[i][0] for i in range(c)]))\n",
    "    edges=deque(edges)\n",
    "    print(edges)\n",
    "    edges.rotate(1)\n",
    "    print(edges)\n",
    "    edges=list(edges)\n",
    "    mid=len(edges)//2\n",
    "    graph[0] = edges[:r]\n",
    "    #print(graph[0])\n",
    "    graph[-1] = list(reversed(edges[mid:mid+r]))\n",
    "    #print(graph[-1])\n",
    "    for i in range(1,c-1):\n",
    "        graph[i][-1]=edges[r+i]\n",
    "        graph[i][0]=edges[-i]\n",
    "    \n",
    "    return graph\n",
    "\n",
    "\n"
   ]
  },
  {
   "cell_type": "code",
   "execution_count": 35,
   "metadata": {},
   "outputs": [],
   "source": [
    "def shiftrow(graph):\n",
    "    new_graph=deque(graph)\n",
    "    new_graph.rotate(1)\n",
    "    return list(new_graph)\n"
   ]
  },
  {
   "cell_type": "code",
   "execution_count": 52,
   "metadata": {},
   "outputs": [
    {
     "name": "stdout",
     "output_type": "stream",
     "text": [
      "deque([1, 2, 3, 3, 6, 9, 9, 8, 7, 7, 4, 1])\n",
      "deque([1, 1, 2, 3, 3, 6, 9, 9, 8, 7, 7, 4])\n"
     ]
    },
    {
     "data": {
      "text/plain": [
       "[[1, 1, 2], [4, 5, 3], [8, 9, 9]]"
      ]
     },
     "execution_count": 52,
     "metadata": {},
     "output_type": "execute_result"
    }
   ],
   "source": [
    "Rotate(rc,r,c)"
   ]
  },
  {
   "cell_type": "code",
   "execution_count": 55,
   "metadata": {},
   "outputs": [
    {
     "data": {
      "text/plain": [
       "[[1, 1, 2], [4, 5, 3], [8, 9, 9]]"
      ]
     },
     "execution_count": 55,
     "metadata": {},
     "output_type": "execute_result"
    }
   ],
   "source": [
    "rc"
   ]
  },
  {
   "cell_type": "code",
   "execution_count": 54,
   "metadata": {},
   "outputs": [
    {
     "data": {
      "text/plain": [
       "[4, 1, 1, 2, 3, 9, 9, 8]"
      ]
     },
     "execution_count": 54,
     "metadata": {},
     "output_type": "execute_result"
    }
   ],
   "source": [
    "graph=rc\n",
    "edges=graph[0]+[graph[i][-1] for i in range(1,c-1)]+list(reversed(graph[-1]))+list(reversed([graph[i][0] for i in range(1,c-1)]))\n",
    "edges=deque(edges)\n",
    "edges.rotate(1)\n",
    "edges=list(edges)\n",
    "edges"
   ]
  },
  {
   "cell_type": "code",
   "execution_count": 25,
   "metadata": {},
   "outputs": [
    {
     "data": {
      "text/plain": [
       "[4, 1, 2, 3, 6, 9, 8, 7]"
      ]
     },
     "execution_count": 25,
     "metadata": {},
     "output_type": "execute_result"
    }
   ],
   "source": [
    "edges"
   ]
  },
  {
   "cell_type": "code",
   "execution_count": 28,
   "metadata": {},
   "outputs": [
    {
     "data": {
      "text/plain": [
       "4"
      ]
     },
     "execution_count": 28,
     "metadata": {},
     "output_type": "execute_result"
    }
   ],
   "source": [
    "\n",
    "#graph[0] = edges[:r]\n",
    "mid=len(edges)//2\n",
    "mid\n",
    "#graph[-1] = list(reversed(edges[mid:mid+r]))"
   ]
  },
  {
   "cell_type": "code",
   "execution_count": 27,
   "metadata": {},
   "outputs": [
    {
     "name": "stdout",
     "output_type": "stream",
     "text": [
      "6\n"
     ]
    }
   ],
   "source": [
    "for i in range(1,c-1):\n",
    "    #graph[i][-1]=edges[r+i]\n",
    "    print(edges[r+i])"
   ]
  },
  {
   "cell_type": "code",
   "execution_count": 29,
   "metadata": {},
   "outputs": [
    {
     "name": "stdout",
     "output_type": "stream",
     "text": [
      "7\n"
     ]
    }
   ],
   "source": [
    "for i in range(1,c-1):\n",
    "    #graph[i][0]=edges[-i]\n",
    "    print(edges[-i])\n"
   ]
  },
  {
   "cell_type": "code",
   "execution_count": null,
   "metadata": {},
   "outputs": [],
   "source": []
  }
 ],
 "metadata": {
  "interpreter": {
   "hash": "d4d1e4263499bec80672ea0156c357c1ee493ec2b1c70f0acce89fc37c4a6abe"
  },
  "kernelspec": {
   "display_name": "Python 3.8.5 ('base')",
   "language": "python",
   "name": "python3"
  },
  "language_info": {
   "codemirror_mode": {
    "name": "ipython",
    "version": 3
   },
   "file_extension": ".py",
   "mimetype": "text/x-python",
   "name": "python",
   "nbconvert_exporter": "python",
   "pygments_lexer": "ipython3",
   "version": "3.8.5"
  },
  "orig_nbformat": 4
 },
 "nbformat": 4,
 "nbformat_minor": 2
}
