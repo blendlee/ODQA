{
 "cells": [
  {
   "cell_type": "code",
   "execution_count": 16,
   "metadata": {},
   "outputs": [],
   "source": [
    "import heapq"
   ]
  },
  {
   "cell_type": "code",
   "execution_count": 20,
   "metadata": {},
   "outputs": [],
   "source": [
    "alp=10\n",
    "cop=10\n",
    "problems=[[0,0,2,1,2],[4,5,3,1,2],[4,11,4,0,2],[10,4,0,4,2]]\n"
   ]
  },
  {
   "cell_type": "code",
   "execution_count": 21,
   "metadata": {},
   "outputs": [],
   "source": [
    "problems.sort(key=lambda x : (x[0]+x[1]))"
   ]
  },
  {
   "cell_type": "code",
   "execution_count": 22,
   "metadata": {},
   "outputs": [
    {
     "data": {
      "text/plain": [
       "[[0, 0, 2, 1, 2], [4, 5, 3, 1, 2], [10, 4, 0, 4, 2], [4, 11, 4, 0, 2]]"
      ]
     },
     "execution_count": 22,
     "metadata": {},
     "output_type": "execute_result"
    }
   ],
   "source": [
    "problems"
   ]
  },
  {
   "cell_type": "code",
   "execution_count": 12,
   "metadata": {},
   "outputs": [],
   "source": [
    "e=list(range(len(problems)+2))\n"
   ]
  },
  {
   "cell_type": "code",
   "execution_count": 13,
   "metadata": {},
   "outputs": [
    {
     "data": {
      "text/plain": [
       "[[0, (0, 0), (0, 1)],\n",
       " [0, (0, 0), (1, 0)],\n",
       " [2, (10, 15), (2, 1)],\n",
       " [4, (20, 20), (3, 3)]]"
      ]
     },
     "execution_count": 13,
     "metadata": {},
     "output_type": "execute_result"
    }
   ],
   "source": [
    "nodes=[[0,(0,0),(0,1)],[0,(0,0),(1,0)]]\n",
    "for alp_req,cop_req,alp_rwd,cop_rwd,cost in problems:\n",
    "    nodes.append([cost,(alp_req,cop_req),(alp_rwd,cop_rwd)])\n",
    "nodes"
   ]
  },
  {
   "cell_type": "code",
   "execution_count": 14,
   "metadata": {},
   "outputs": [],
   "source": [
    "v=[nodes for _ in range(len(problems)+2)]"
   ]
  },
  {
   "cell_type": "code",
   "execution_count": 15,
   "metadata": {},
   "outputs": [
    {
     "data": {
      "text/plain": [
       "[[[0, (0, 0), (0, 1)],\n",
       "  [0, (0, 0), (1, 0)],\n",
       "  [2, (10, 15), (2, 1)],\n",
       "  [4, (20, 20), (3, 3)]],\n",
       " [[0, (0, 0), (0, 1)],\n",
       "  [0, (0, 0), (1, 0)],\n",
       "  [2, (10, 15), (2, 1)],\n",
       "  [4, (20, 20), (3, 3)]],\n",
       " [[0, (0, 0), (0, 1)],\n",
       "  [0, (0, 0), (1, 0)],\n",
       "  [2, (10, 15), (2, 1)],\n",
       "  [4, (20, 20), (3, 3)]],\n",
       " [[0, (0, 0), (0, 1)],\n",
       "  [0, (0, 0), (1, 0)],\n",
       "  [2, (10, 15), (2, 1)],\n",
       "  [4, (20, 20), (3, 3)]]]"
      ]
     },
     "execution_count": 15,
     "metadata": {},
     "output_type": "execute_result"
    }
   ],
   "source": [
    "v"
   ]
  },
  {
   "cell_type": "code",
   "execution_count": null,
   "metadata": {},
   "outputs": [],
   "source": [
    "INF=1e9\n",
    "graph=[0,1,2]\n",
    "distance=[INF]*len(graph)\n",
    "\n",
    "\n"
   ]
  },
  {
   "cell_type": "code",
   "execution_count": null,
   "metadata": {},
   "outputs": [],
   "source": [
    "def dijkstra(start):\n",
    "    q=[]\n",
    "    heapq.heappush(q,(cost,start))\n",
    "    distance[start]=0\n",
    "    \n",
    "    while q:\n",
    "        dist, now = heapq.heappop(q)\n",
    "        if distance[now] < dist :\n",
    "            continue\n",
    "        for i in graph[now]:\n",
    "            cost = dist +i[1]\n",
    "            if cost < distance[i[0]] :\n",
    "                distance[i[0]] = cost\n",
    "                heapq.heappush(q,(cost,i[0]))"
   ]
  }
 ],
 "metadata": {
  "interpreter": {
   "hash": "d4d1e4263499bec80672ea0156c357c1ee493ec2b1c70f0acce89fc37c4a6abe"
  },
  "kernelspec": {
   "display_name": "Python 3.8.5 ('base')",
   "language": "python",
   "name": "python3"
  },
  "language_info": {
   "codemirror_mode": {
    "name": "ipython",
    "version": 3
   },
   "file_extension": ".py",
   "mimetype": "text/x-python",
   "name": "python",
   "nbconvert_exporter": "python",
   "pygments_lexer": "ipython3",
   "version": "3.8.5"
  },
  "orig_nbformat": 4
 },
 "nbformat": 4,
 "nbformat_minor": 2
}
