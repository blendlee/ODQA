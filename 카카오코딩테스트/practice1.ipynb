{
 "cells": [
  {
   "cell_type": "code",
   "execution_count": 3,
   "metadata": {},
   "outputs": [],
   "source": [
    "from collections import defaultdict"
   ]
  },
  {
   "cell_type": "code",
   "execution_count": 7,
   "metadata": {},
   "outputs": [],
   "source": [
    "survey=[\"AN\", \"CF\", \"MJ\", \"RT\", \"NA\"]\n",
    "choices=[5, 3, 2, 7, 5]"
   ]
  },
  {
   "cell_type": "code",
   "execution_count": 8,
   "metadata": {},
   "outputs": [],
   "source": [
    "length=len(survey)\n",
    "mbti={'R':0,'T':0,'C':0,'F':0,'J':0,'M':0,'A':0,'N':0}"
   ]
  },
  {
   "cell_type": "code",
   "execution_count": 9,
   "metadata": {},
   "outputs": [],
   "source": [
    "for i in range(length):\n",
    "    f,s = survey[i][0],survey[i][1]\n",
    "    choice=choices[i]\n",
    "    if choice <4:\n",
    "        mbti[f]+=4-choice\n",
    "    else :\n",
    "        mbti[s]+=choice-4"
   ]
  },
  {
   "cell_type": "code",
   "execution_count": 12,
   "metadata": {},
   "outputs": [
    {
     "name": "stdout",
     "output_type": "stream",
     "text": [
      "TCMA\n"
     ]
    }
   ],
   "source": [
    "mbti_list=[['R','T'],['C','F'],['J','M'],['A','N']]\n",
    "answer=''\n",
    "for f,s in mbti_list:\n",
    "    if mbti[f]>=mbti[s]:\n",
    "        answer+=f\n",
    "    elif mbti[s]>mbti[f]:\n",
    "        answer+=s\n",
    "print(answer)\n"
   ]
  },
  {
   "cell_type": "code",
   "execution_count": null,
   "metadata": {},
   "outputs": [],
   "source": []
  }
 ],
 "metadata": {
  "interpreter": {
   "hash": "d4d1e4263499bec80672ea0156c357c1ee493ec2b1c70f0acce89fc37c4a6abe"
  },
  "kernelspec": {
   "display_name": "Python 3.8.5 ('base')",
   "language": "python",
   "name": "python3"
  },
  "language_info": {
   "codemirror_mode": {
    "name": "ipython",
    "version": 3
   },
   "file_extension": ".py",
   "mimetype": "text/x-python",
   "name": "python",
   "nbconvert_exporter": "python",
   "pygments_lexer": "ipython3",
   "version": "3.8.5"
  },
  "orig_nbformat": 4
 },
 "nbformat": 4,
 "nbformat_minor": 2
}
