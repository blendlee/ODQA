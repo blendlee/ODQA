{
 "cells": [
  {
   "cell_type": "code",
   "execution_count": 16,
   "metadata": {},
   "outputs": [],
   "source": [
    "import copy\n",
    "\n",
    "import sys\n",
    "\n",
    "input = sys.stdin.readline\n",
    "sys.setrecursionlimit(5000)\n",
    "INF=1e9\n",
    "def dfs(graph,now,visited,intensities,intensity,goal):\n",
    "    visited[now] = True\n",
    "    if now==goal:\n",
    "        intensities.append(intensity)\n",
    "        return\n",
    "        \n",
    "    for next,cost in graph[now]:\n",
    "        new_visited=copy.deepcopy(visited)\n",
    "        if not new_visited[next]:\n",
    "            new_intensity=max(intensity,cost)\n",
    "            if cost > max(intensities):\n",
    "                dfs(graph,next,new_visited,intensities,new_intensity,goal)\n",
    "    return intensities\n",
    "    \n",
    "def solution(n, paths, gates, summits):\n",
    "\n",
    "\n",
    "    result=[]\n",
    "    for start in gates:\n",
    "        for summit in summits:\n",
    "            graph=[[] for i in range(n+1)]\n",
    "            for x,y,cost in paths:\n",
    "                if x != summit and y!= summit:\n",
    "                    if x in summits or y in summits :\n",
    "                        continue\n",
    "                if x != start and y!= start:\n",
    "                    if x in gates or y in gates :\n",
    "                        continue\n",
    "                graph[x].append((y,cost))\n",
    "                graph[y].append((x,cost))\n",
    "\n",
    "\n",
    "            visited=[False]*(n+1)\n",
    "            visited[start]=True\n",
    "            intensities=dfs(graph,start,visited,[0],0,summit)[1:]\n",
    "            print(intensities)\n",
    "            if len(intensities)==0:\n",
    "                continue\n",
    "            result.append([summit,min(intensities)])\n",
    "    result.sort(key=lambda x : (x[1],x[0]))\n",
    "    return result"
   ]
  },
  {
   "cell_type": "code",
   "execution_count": 17,
   "metadata": {},
   "outputs": [],
   "source": [
    "n=6\n",
    "paths=\t[[1, 2, 3], [2, 3, 5], [2, 4, 2], [2, 5, 4], [3, 4, 4], [4, 5, 3], [4, 6, 1], [5, 6, 1]]\n",
    "gates=[1,3]\n",
    "summits=[5]"
   ]
  },
  {
   "cell_type": "code",
   "execution_count": 18,
   "metadata": {},
   "outputs": [
    {
     "name": "stdout",
     "output_type": "stream",
     "text": [
      "[3, 4]\n",
      "[5]\n"
     ]
    },
    {
     "data": {
      "text/plain": [
       "[[5, 3], [5, 5]]"
      ]
     },
     "execution_count": 18,
     "metadata": {},
     "output_type": "execute_result"
    }
   ],
   "source": [
    "solution(n,paths,gates,summits)"
   ]
  },
  {
   "cell_type": "code",
   "execution_count": null,
   "metadata": {},
   "outputs": [],
   "source": []
  }
 ],
 "metadata": {
  "interpreter": {
   "hash": "d4d1e4263499bec80672ea0156c357c1ee493ec2b1c70f0acce89fc37c4a6abe"
  },
  "kernelspec": {
   "display_name": "Python 3.8.5 ('base')",
   "language": "python",
   "name": "python3"
  },
  "language_info": {
   "codemirror_mode": {
    "name": "ipython",
    "version": 3
   },
   "file_extension": ".py",
   "mimetype": "text/x-python",
   "name": "python",
   "nbconvert_exporter": "python",
   "pygments_lexer": "ipython3",
   "version": "3.8.5"
  },
  "orig_nbformat": 4
 },
 "nbformat": 4,
 "nbformat_minor": 2
}
