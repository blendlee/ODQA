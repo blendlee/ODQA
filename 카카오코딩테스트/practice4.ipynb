{
 "cells": [
  {
   "cell_type": "code",
   "execution_count": 2,
   "metadata": {},
   "outputs": [],
   "source": [
    "\n",
    "import copy\n",
    "n=7\n",
    "paths=[[1, 2, 5], [1, 4, 1], [2, 3, 1], [2, 6, 7], [4, 5, 1], [5, 6, 1], [6, 7, 1]]\n",
    "gates=[3, 7]\n",
    "summits=[1,5]"
   ]
  },
  {
   "cell_type": "code",
   "execution_count": 3,
   "metadata": {},
   "outputs": [],
   "source": [
    "graph=[[] for i in range(n+1)]\n",
    "for x,y,cost in paths:\n",
    "    graph[x].append((y,cost))\n",
    "    graph[y].append((x,cost))"
   ]
  },
  {
   "cell_type": "code",
   "execution_count": 10,
   "metadata": {},
   "outputs": [
    {
     "data": {
      "text/plain": [
       "[[],\n",
       " [(2, 5), (4, 1)],\n",
       " [(1, 5), (3, 1), (6, 7)],\n",
       " [(2, 1)],\n",
       " [(1, 1), (5, 1)],\n",
       " [(4, 1), (6, 1)],\n",
       " [(2, 7), (5, 1), (7, 1)],\n",
       " [(6, 1)]]"
      ]
     },
     "execution_count": 10,
     "metadata": {},
     "output_type": "execute_result"
    }
   ],
   "source": [
    "graph"
   ]
  },
  {
   "cell_type": "code",
   "execution_count": 25,
   "metadata": {},
   "outputs": [],
   "source": [
    "import heapq\n",
    "INF=1e9\n",
    "\n",
    "\n",
    "\n",
    "def dijkstra(start):\n",
    "    q=[]\n",
    "    distance=[0]*(n+1)\n",
    "    heapq.heappush(q,(0,start))\n",
    "\n",
    "    while q:\n",
    "        dist, now = heapq.heappop(q)\n",
    "        for i in graph[now]:\n",
    "            cost = max(dist,i[1])\n",
    "            if cost > distance[i[0]] :\n",
    "\n",
    "                distance[i[0]] = max(cost,distance[i[0]])\n",
    "                heapq.heappush(q,(cost,i[0]))\n",
    "    return distance"
   ]
  },
  {
   "cell_type": "code",
   "execution_count": 26,
   "metadata": {},
   "outputs": [
    {
     "data": {
      "text/plain": [
       "[0, 7, 7, 7, 7, 7, 7, 7]"
      ]
     },
     "execution_count": 26,
     "metadata": {},
     "output_type": "execute_result"
    }
   ],
   "source": [
    "dijkstra(1)"
   ]
  },
  {
   "cell_type": "code",
   "execution_count": 115,
   "metadata": {},
   "outputs": [],
   "source": [
    "\n",
    "\n",
    "\n",
    "def dfs(graph,now,visited,intensities,intensity,goal):\n",
    "    visited[now] = True\n",
    "    if now==goal:\n",
    "        intensities.append(intensity)\n",
    "        \n",
    "    for next,cost in graph[now]:\n",
    "        new_visited=copy.deepcopy(visited)\n",
    "        if not new_visited[next]:\n",
    "            new_intensity=max(intensity,cost)\n",
    "            dfs(graph,next,new_visited,intensities,new_intensity,goal)\n",
    "    return intensities\n",
    "\n",
    "\n",
    "\n"
   ]
  },
  {
   "cell_type": "code",
   "execution_count": 116,
   "metadata": {},
   "outputs": [
    {
     "name": "stdout",
     "output_type": "stream",
     "text": [
      "[5, 7]\n",
      "[5, 7]\n",
      "[7, 1]\n",
      "[7, 1]\n",
      "[[1, 5], [5, 5], [1, 1], [5, 1]]\n"
     ]
    }
   ],
   "source": [
    "result=[]\n",
    "for start in gates:\n",
    "    for summit in summits:\n",
    "        visited=[False]*(n+1)\n",
    "        visited[start]=True\n",
    "        intensities=dfs(graph,start,visited,[],0,summit)\n",
    "        print(intensities)\n",
    "        if len(intensities)==0:\n",
    "            continue\n",
    "        result.append([summit,min(intensities)])\n",
    "\n",
    "print(result)"
   ]
  },
  {
   "cell_type": "code",
   "execution_count": 112,
   "metadata": {},
   "outputs": [
    {
     "data": {
      "text/plain": [
       "[[1, 1], [5, 1], [1, 5], [5, 5]]"
      ]
     },
     "execution_count": 112,
     "metadata": {},
     "output_type": "execute_result"
    }
   ],
   "source": [
    "result.sort(key=lambda x : (x[1],x[0]))\n",
    "result\n"
   ]
  },
  {
   "cell_type": "code",
   "execution_count": null,
   "metadata": {},
   "outputs": [],
   "source": []
  }
 ],
 "metadata": {
  "interpreter": {
   "hash": "d4d1e4263499bec80672ea0156c357c1ee493ec2b1c70f0acce89fc37c4a6abe"
  },
  "kernelspec": {
   "display_name": "Python 3.8.5 ('base')",
   "language": "python",
   "name": "python3"
  },
  "language_info": {
   "codemirror_mode": {
    "name": "ipython",
    "version": 3
   },
   "file_extension": ".py",
   "mimetype": "text/x-python",
   "name": "python",
   "nbconvert_exporter": "python",
   "pygments_lexer": "ipython3",
   "version": "3.8.5"
  },
  "orig_nbformat": 4
 },
 "nbformat": 4,
 "nbformat_minor": 2
}
